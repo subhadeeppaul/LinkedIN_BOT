{
 "cells": [
  {
   "cell_type": "code",
   "execution_count": 4,
   "id": "87f752ba",
   "metadata": {},
   "outputs": [
    {
     "name": "stdout",
     "output_type": "stream",
     "text": [
      "Collecting webdriver_manager\n",
      "  Downloading webdriver_manager-3.5.3-py2.py3-none-any.whl (18 kB)\n",
      "Collecting crayons\n",
      "  Downloading crayons-0.4.0-py2.py3-none-any.whl (4.6 kB)\n",
      "Requirement already satisfied: requests in c:\\users\\joyda\\anaconda3\\envs\\tf2.5\\lib\\site-packages (from webdriver_manager) (2.25.1)\n",
      "Collecting configparser\n",
      "  Downloading configparser-5.2.0-py3-none-any.whl (19 kB)\n",
      "Requirement already satisfied: colorama in c:\\users\\joyda\\anaconda3\\envs\\tf2.5\\lib\\site-packages (from crayons->webdriver_manager) (0.4.4)\n",
      "Requirement already satisfied: idna<3,>=2.5 in c:\\users\\joyda\\anaconda3\\envs\\tf2.5\\lib\\site-packages (from requests->webdriver_manager) (2.10)\n",
      "Requirement already satisfied: chardet<5,>=3.0.2 in c:\\users\\joyda\\anaconda3\\envs\\tf2.5\\lib\\site-packages (from requests->webdriver_manager) (4.0.0)\n",
      "Requirement already satisfied: urllib3<1.27,>=1.21.1 in c:\\users\\joyda\\anaconda3\\envs\\tf2.5\\lib\\site-packages (from requests->webdriver_manager) (1.26.7)\n",
      "Requirement already satisfied: certifi>=2017.4.17 in c:\\users\\joyda\\anaconda3\\envs\\tf2.5\\lib\\site-packages (from requests->webdriver_manager) (2021.10.8)\n",
      "Installing collected packages: crayons, configparser, webdriver-manager\n",
      "Successfully installed configparser-5.2.0 crayons-0.4.0 webdriver-manager-3.5.3\n"
     ]
    }
   ],
   "source": [
    "# !pip install selenium\n",
    "!pip install webdriver_manager"
   ]
  },
  {
   "cell_type": "code",
   "execution_count": 1,
   "id": "e3c4992e-13d7-45d3-8ce7-aa29905188ad",
   "metadata": {},
   "outputs": [],
   "source": [
    "from selenium import webdriver\n",
    "from webdriver_manager.chrome import ChromeDriverManager\n",
    "from selenium.webdriver.common.keys import Keys\n",
    "import csv, os.path, time\n",
    "import pandas as pd\n",
    "from selenium.webdriver.common.by import By"
   ]
  },
  {
   "cell_type": "code",
   "execution_count": 18,
   "id": "21e3127c",
   "metadata": {},
   "outputs": [],
   "source": [
    "file1 = open(\"id_list.txt\",\"r\")\n",
    "plinks = list(filter(lambda x: x!='' , [i.replace(\"\\n\",\"\").replace(\"?originalSubdomain=in\",\"\") for i in file1.readlines()]))\n",
    "file1.close()"
   ]
  },
  {
   "cell_type": "code",
   "execution_count": 7,
   "id": "fd02421a-f1f2-4a01-8b24-062cc7960de1",
   "metadata": {},
   "outputs": [],
   "source": [
    "# plinks = pd.read_csv('id_list.csv')\n",
    "# file_name = 'connections.csv'\n",
    "\n",
    "linkedin_username = \"\"\n",
    "# linkedin_username = input(\"Enter your username: \")\n",
    "linkedin_password = \"\"\n",
    "# linkedin_password = input(\"Enter your password: \")\n",
    "\n",
    "#keywords = 'DevOps,Linux,Python,AWS'\n",
    "# <name> will be replaced by name of the user\n",
    "\n",
    "till_page = 1"
   ]
  },
  {
   "cell_type": "code",
   "execution_count": 8,
   "id": "a22b6292",
   "metadata": {},
   "outputs": [],
   "source": [
    "custom_message = \"\"\"Hi <name>, I'm Joey from Subspace. One of my friends referred me to you. We are building the first-ever social marketplace for subscriptions. I have been following your fund for a while.\n",
    "Let me know if we can connect and discuss the idea with you?\"\"\""
   ]
  },
  {
   "cell_type": "code",
   "execution_count": 19,
   "id": "3066272d-b23b-448a-be43-e6cd90726f4d",
   "metadata": {},
   "outputs": [
    {
     "data": {
      "text/plain": [
       "['https://www.linkedin.com/in/hershelmehta/',\n",
       " 'https://www.linkedin.com/in/brendanprogers/',\n",
       " 'https://www.linkedin.com/in/smanishsinghal/',\n",
       " 'https://www.linkedin.com/in/roopan-aulakh-174a9a5/',\n",
       " 'https://www.linkedin.com/in/shubham-sandeep-2980b416/',\n",
       " 'https://www.linkedin.com/in/akhiagarwal/',\n",
       " 'https://www.linkedin.com/in/akhilandasu/',\n",
       " 'https://www.linkedin.com/in/shamiksharma/',\n",
       " 'https://www.linkedin.com/in/janavi-papriwal-41351b5/',\n",
       " 'https://www.linkedin.com/in/sanchayan-chakraborty-5353105/',\n",
       " 'https://www.linkedin.com/in/shashvat-rai-6715b35/',\n",
       " 'https://www.linkedin.com/in/subit-saurav/',\n",
       " 'https://www.linkedin.com/in/sushmakaushik/',\n",
       " 'https://www.linkedin.com/in/tarun-mehta-137457a9/',\n",
       " 'https://www.linkedin.com/in/vineet-rai-536160/',\n",
       " 'https://www.linkedin.com/in/apoorv-gairola-220434168/',\n",
       " 'https://www.linkedin.com/in/shikharprateek/',\n",
       " 'https://www.linkedin.com/in/mahalakshmi-parthasarathy/',\n",
       " 'https://www.linkedin.com/in/poojashetty7/',\n",
       " 'https://www.linkedin.com/in/akhiladeshpande/',\n",
       " 'https://www.linkedin.com/in/manjula-bopanna-83838566/',\n",
       " 'https://www.linkedin.com/in/roopa-ravi-890553a/',\n",
       " 'https://www.linkedin.com/in/sayantan-sarkar-9881a525/',\n",
       " 'https://www.linkedin.com/in/rupali-g-8b82a6141/',\n",
       " 'https://www.linkedin.com/in/rohit-sujanani-b14549137/',\n",
       " 'https://www.linkedin.com/in/riteshbanglani/',\n",
       " 'https://www.linkedin.com/in/rahulchowdhri/',\n",
       " 'https://www.linkedin.com/in/naman-lahoty-78b9aa16/',\n",
       " 'https://www.linkedin.com/in/mayankjain943/',\n",
       " 'https://www.linkedin.com/in/arundhatimenon/',\n",
       " 'https://www.linkedin.com/in/ajmalhussaink/',\n",
       " 'https://www.linkedin.com/in/rishabh-bardia-2aa28825/',\n",
       " 'https://www.linkedin.com/in/shivangi-bubna-04066033/',\n",
       " 'https://www.linkedin.com/in/ashok-singh-8517328/',\n",
       " 'https://www.linkedin.com/in/yash-ghatalia-972a1757/',\n",
       " 'https://www.linkedin.com/in/inadsouza/',\n",
       " 'https://www.linkedin.com/in/apurva-debnath-b80809a8/',\n",
       " 'https://www.linkedin.com/in/chandni-sirodariya-067771145/',\n",
       " 'https://www.linkedin.com/in/gayatri-bajaj-886063143/',\n",
       " 'https://www.linkedin.com/in/satyabrata-das-21b4302/',\n",
       " 'https://www.linkedin.com/in/munish-bhatia-584a114/',\n",
       " 'https://www.linkedin.com/in/sanjeev-bhandari-33b23921/',\n",
       " 'https://www.linkedin.com/in/neeti-malhotra-49a9721/',\n",
       " 'https://www.linkedin.com/in/deepakn/',\n",
       " 'https://www.linkedin.com/in/pannkaj-chopraa-1a8248159/',\n",
       " 'https://www.linkedin.com/in/vasudhawadhera/',\n",
       " 'https://www.linkedin.com/in/utkarshbajpai/',\n",
       " 'https://www.linkedin.com/in/arindam-chakraborty-74b280a2/',\n",
       " 'https://www.linkedin.com/in/radhikaananth/',\n",
       " 'https://www.linkedin.com/in/pratikei/',\n",
       " 'https://www.linkedin.com/in/abhinavchaturvedi/',\n",
       " 'https://www.linkedin.com/in/ananddaniel/',\n",
       " 'https://www.linkedin.com/in/kirani/',\n",
       " 'https://www.linkedin.com/in/manasi-shah-b9244946/',\n",
       " 'https://www.accel.com/people/prayank-swaroop',\n",
       " 'https://www.linkedin.com/in/saketh-katikaneni-955111a3/',\n",
       " 'https://www.linkedin.com/in/subhrajitchowdhury/',\n",
       " 'https://www.linkedin.com/in/chandraneel-polavarapu/',\n",
       " 'https://www.linkedin.com/in/riteshbanglani/',\n",
       " 'https://www.linkedin.com/in/rahulchowdhri/',\n",
       " 'https://www.linkedin.com/in/naman-lahoty-78b9aa16/',\n",
       " 'https://www.linkedin.com/in/mayankjain943/',\n",
       " 'https://www.linkedin.com/in/arpit-maheshwari/',\n",
       " 'https://www.linkedin.com/in/alok-goyal-536557/',\n",
       " 'https://www.linkedin.com/in/anagh-prasad-394aa0100/',\n",
       " 'https://www.linkedin.com/in/sayantan-sarkar-9881a525/',\n",
       " 'https://www.linkedin.com/in/rupali-g-8b82a6141/',\n",
       " 'https://www.linkedin.com/in/arundhatimenon/',\n",
       " 'https://www.linkedin.com/in/ajmalhussaink/',\n",
       " 'https://www.linkedin.com/in/rishabh-bardia-2aa28825/',\n",
       " 'https://www.linkedin.com/in/utsavsomani/']"
      ]
     },
     "execution_count": 19,
     "metadata": {},
     "output_type": "execute_result"
    }
   ],
   "source": [
    "# plinks\n",
    "plinks "
   ]
  },
  {
   "cell_type": "code",
   "execution_count": 20,
   "id": "8dba8043",
   "metadata": {},
   "outputs": [
    {
     "name": "stderr",
     "output_type": "stream",
     "text": [
      "\n",
      "\n",
      "====== WebDriver manager ======\n",
      "Current google-chrome version is 99.0.4844\n",
      "Get LATEST chromedriver version for 99.0.4844 google-chrome\n",
      "Trying to download new driver from https://chromedriver.storage.googleapis.com/99.0.4844.51/chromedriver_win32.zip\n",
      "Driver has been saved in cache [C:\\Users\\joyda\\.wdm\\drivers\\chromedriver\\win32\\99.0.4844.51]\n",
      "<ipython-input-20-008048a79a1f>:3: DeprecationWarning: executable_path has been deprecated, please pass in a Service object\n",
      "  browser= webdriver.Chrome(ChromeDriverManager().install())\n",
      "<ipython-input-20-008048a79a1f>:5: DeprecationWarning: find_element_by_* commands are deprecated. Please use find_element() instead\n",
      "  browser.find_element_by_id('username').send_keys(linkedin_username)\n",
      "<ipython-input-20-008048a79a1f>:6: DeprecationWarning: find_element_by_* commands are deprecated. Please use find_element() instead\n",
      "  browser.find_element_by_id('password').send_keys(linkedin_password)\n",
      "<ipython-input-20-008048a79a1f>:7: DeprecationWarning: find_element_by_xpath is deprecated. Please use find_element(by=By.XPATH, value=xpath) instead\n",
      "  browser.find_element_by_xpath('//*[@type=\"submit\"]').click()\n"
     ]
    }
   ],
   "source": [
    "url = \"http://linkedin.com/\"\n",
    "# Login\n",
    "browser= webdriver.Chrome(ChromeDriverManager().install())\n",
    "browser.get('https://www.linkedin.com/login')\n",
    "browser.find_element_by_id('username').send_keys(linkedin_username)\n",
    "browser.find_element_by_id('password').send_keys(linkedin_password)\n",
    "browser.find_element_by_xpath('//*[@type=\"submit\"]').click()\n",
    "time.sleep(5)\n",
    "browser.get(url)"
   ]
  },
  {
   "cell_type": "code",
   "execution_count": 21,
   "id": "e7e72946-40ce-45e8-9de1-c88caaac60cf",
   "metadata": {},
   "outputs": [],
   "source": [
    "def search_and_send_request_with_note(plinks, custom_message, till_page):\n",
    "    # first_column = list(plinks[\"profilelink\"] )\n",
    "    for i in plinks:\n",
    "        browser.get(i)\n",
    "        time.sleep(2)\n",
    "        buttons = browser.find_elements(By.XPATH,\"//button[@class='artdeco-button artdeco-button--2 artdeco-button--primary ember-view pvs-profile-actions__action']\")\n",
    "        \n",
    "        name_elements = browser.find_elements(By.XPATH,\"//h1[@class='text-heading-xlarge inline t-24 v-align-middle break-words']\")\n",
    "        \n",
    "        name = name_elements[0].text\n",
    "\n",
    "        message = custom_message.replace(\"<name>\",name.split(\" \")[0].title())\n",
    "\n",
    "        print(message)\n",
    "        \n",
    "        if len(buttons)<2:\n",
    "\n",
    "            more_buttons = browser.find_elements(By.XPATH,\"//button[@aria-label='More actions']\")\n",
    "            more_button = more_buttons[1]\n",
    "            more_button.click()\n",
    "\n",
    "            buttons = browser.find_elements(By.XPATH,\"//div[@class='display-flex align-items-center  artdeco-dropdown__item artdeco-dropdown__item--is-dropdown ember-view']\")\n",
    "            button = None\n",
    "            for b in buttons:\n",
    "                if \"connect\" in b.text:\n",
    "                    button = b\n",
    "            if button is None:\n",
    "                print(i,\"does not have connect button\")\n",
    "                time.sleep(5)\n",
    "                continue\n",
    "            button.click()\n",
    "            button = None\n",
    "            buttons = browser.find_elements(By.XPATH,\"//button[@class='artdeco-button artdeco-button--muted artdeco-button--2 artdeco-button--secondary ember-view mr2']\")\n",
    "#             print(buttons)\n",
    "            for b in buttons:\n",
    "                if \"Connect\" in b.text:\n",
    "                    button = b\n",
    "            button.click()\n",
    "        else:\n",
    "            connect_button = buttons[1]\n",
    "            connect_button.click()\n",
    "\n",
    "        buttons = browser.find_elements(By.XPATH,\"//button[@class='artdeco-button artdeco-button--muted artdeco-button--2 artdeco-button--secondary ember-view mr1']\")\n",
    "        add_note_button = buttons[0]\n",
    "\n",
    "        add_note_button.click()\n",
    "\n",
    "        time.sleep(1)\n",
    "        add_note = browser.find_elements(By.XPATH,\"//textarea[@class='ember-text-area ember-view connect-button-send-invite__custom-message mb3']\")\n",
    "\n",
    "        add_note[0].send_keys(message)\n",
    "        time.sleep(2)\n",
    "        send_buttons = browser.find_elements(By.XPATH,\"//button[@aria-label='Send now']\")\n",
    "        send_buttons[0].click()\n",
    "        time.sleep(30)\n",
    "    "
   ]
  },
  {
   "cell_type": "code",
   "execution_count": 22,
   "id": "77484003",
   "metadata": {},
   "outputs": [],
   "source": [
    "file1 = open(\"id_list.txt\",\"r\")\n",
    "plinks = list(filter(lambda x: x!='' , [i.replace(\"\\n\",\"\").replace(\"?originalSubdomain=in\",\"\") for i in file1.readlines()]))\n",
    "file1.close()"
   ]
  },
  {
   "cell_type": "code",
   "execution_count": null,
   "id": "2f87d470-eb0a-42cb-99cb-3d73a16e1aed",
   "metadata": {},
   "outputs": [
    {
     "name": "stdout",
     "output_type": "stream",
     "text": [
      "Hi Hershel, I'm Joey from Subspace. One of my friends referred me to you. We are building the first-ever social marketplace for subscriptions. I have been following your fund for a while.\n",
      "Let me know if we can connect and discuss the idea with you?\n",
      "Hi Brendan, I'm Joey from Subspace. One of my friends referred me to you. We are building the first-ever social marketplace for subscriptions. I have been following your fund for a while.\n",
      "Let me know if we can connect and discuss the idea with you?\n",
      "Hi Manish, I'm Joey from Subspace. One of my friends referred me to you. We are building the first-ever social marketplace for subscriptions. I have been following your fund for a while.\n",
      "Let me know if we can connect and discuss the idea with you?\n"
     ]
    }
   ],
   "source": [
    "search_and_send_request_with_note(plinks, custom_message, till_page)"
   ]
  },
  {
   "cell_type": "code",
   "execution_count": 26,
   "id": "c3c5f6e8-f7d1-4446-b94c-3dc69a441262",
   "metadata": {},
   "outputs": [],
   "source": [
    "browser.quit()"
   ]
  },
  {
   "cell_type": "code",
   "execution_count": null,
   "id": "f82ef04b-4a13-476d-a80a-eace93ede818",
   "metadata": {},
   "outputs": [],
   "source": []
  },
  {
   "cell_type": "markdown",
   "id": "5a116af7-71ff-4bf1-83bf-a1f204cc60d0",
   "metadata": {},
   "source": [
    "#testing part with keywords "
   ]
  },
  {
   "cell_type": "code",
   "execution_count": 4,
   "id": "a611d58e-e8e0-412d-8a7b-1fdd52f5bad5",
   "metadata": {},
   "outputs": [],
   "source": [
    "# Functions \n",
    "def search_and_send_request(keywords, till_page, writer):\n",
    "    for page in range(1, till_page + 1):\n",
    "        print('\\nINFO: Checking on page %s' % (page))\n",
    "        query_url = 'https://www.linkedin.com/search/results/people/?keywords=' + keywords + '&origin=GLOBAL_SEARCH_HEADER&page=' + str(page)\n",
    "        driver.get(query_url)\n",
    "        time.sleep(5)\n",
    "        html = driver.find_element_by_tag_name('html')\n",
    "        html.send_keys(Keys.END)\n",
    "        time.sleep(5)\n",
    "        linkedin_urls = driver.find_elements_by_class_name('reusable-search__result-container')\n",
    "        print('INFO: %s connections found on page %s' % (len(linkedin_urls), page))\n",
    "        for index, result in enumerate(linkedin_urls, start=1):\n",
    "            text = result.text.split('\\n')[0]\n",
    "            connection_action = result.find_elements_by_class_name('artdeco-button__text')\n",
    "            if connection_action:\n",
    "                connection = connection_action[0]\n",
    "            else: \n",
    "                print(\"%s ) CANT: %s\" % (index, text))\n",
    "                continue\n",
    "            if connection.text == 'Connect':\n",
    "                try:\n",
    "                    coordinates = connection.location_once_scrolled_into_view # returns dict of X, Y coordinates\n",
    "                    driver.execute_script(\"window.scrollTo(%s, %s);\" % (coordinates['x'], coordinates['y']))\n",
    "                    time.sleep(5)\n",
    "                    connection.click()\n",
    "                    time.sleep(5)\n",
    "                    if driver.find_elements_by_class_name('artdeco-button--primary')[0].is_enabled():\n",
    "                        driver.find_elements_by_class_name('artdeco-button--primary')[0].click()\n",
    "                        writer.writerow([text])\n",
    "                        print(\"%s ) SENT: %s\" % (index, text))\n",
    "                    else:\n",
    "                        driver.find_elements_by_class_name('artdeco-modal__dismiss')[0].click()\n",
    "                        print(\"%s ) CANT: %s\" % (index, text))\n",
    "                except Exception as e:\n",
    "                    print('%s ) ERROR: %s' % (index, text))\n",
    "                time.sleep(5)\n",
    "            elif connection.text == 'Pending':\n",
    "                    print(\"%s ) PENDING: %s\" % (index, text))\n",
    "            else:\n",
    "                    if text : print(\"%s ) CANT: %s\" % (index, text))\n",
    "                    else: print(\"%s ) ERROR: You might have reached limit\" % (index))\n"
   ]
  },
  {
   "cell_type": "code",
   "execution_count": 11,
   "id": "dc520eb5-e976-4427-9987-c98c73ae607a",
   "metadata": {},
   "outputs": [
    {
     "name": "stderr",
     "output_type": "stream",
     "text": [
      "\n",
      "\n",
      "====== WebDriver manager ======\n",
      "Current google-chrome version is 98.0.4758\n",
      "Get LATEST driver version for 98.0.4758\n",
      "Driver [C:\\Users\\Gulshan\\.wdm\\drivers\\chromedriver\\win32\\98.0.4758.102\\chromedriver.exe] found in cache\n"
     ]
    }
   ],
   "source": [
    "# Login\n",
    "driver = webdriver.Chrome(ChromeDriverManager().install())\n",
    "driver.get('https://www.linkedin.com/login')\n",
    "driver.find_element_by_id('username').send_keys(linkedin_username)\n",
    "driver.find_element_by_id('password').send_keys(linkedin_password)\n",
    "driver.find_element_by_xpath('//*[@type=\"submit\"]').click()\n",
    "time.sleep(10)\n",
    "#name = driver.find_elements_by_class_name('profile-rail-card__actor-link')[0].text.replace(' ', '')"
   ]
  },
  {
   "cell_type": "code",
   "execution_count": 12,
   "id": "fa3f6ca8-25fa-4c79-81b3-a314eaf1dfa3",
   "metadata": {},
   "outputs": [],
   "source": [
    "# CSV file loging\n",
    "#file_name = name + '_' + parameters.file_name.capitalize()\n",
    "file_exists =  os.path.isfile(file_name)\n",
    "writer = csv.writer(open(file_name, 'a'))\n",
    "if not file_exists: writer.writerow(['Connection Summary'])"
   ]
  },
  {
   "cell_type": "code",
   "execution_count": 13,
   "id": "823421ef-ff64-47e2-90d4-aa3e51ae2fde",
   "metadata": {},
   "outputs": [
    {
     "name": "stdout",
     "output_type": "stream",
     "text": [
      "\n",
      "INFO: Checking on page 1\n",
      "INFO: 10 connections found on page 1\n",
      "1 ) SENT: GANESH SWAMI\n",
      "2 ) SENT: Prashanth Ganta\n",
      "3 ) SENT: Raj B.\n",
      "4 ) SENT: bhupender rawat\n",
      "5 ) SENT: Kartikeya Chauhan\n",
      "6 ) SENT: Mukund Tolay\n",
      "7 ) SENT: Monali Vijayvargiya\n",
      "8 ) SENT: Upmanyu Sharma\n",
      "9 ) SENT: gaurav khandelwal\n",
      "10 ) SENT: Tushar Tekode\n",
      "\n",
      "INFO: Checking on page 2\n",
      "INFO: 10 connections found on page 2\n",
      "1 ) SENT: RAJAN VISHWAKARMA\n",
      "2 ) SENT: Ashutosh Punia\n",
      "3 ) SENT: Sanket Gadewar\n",
      "4 ) SENT: Vimlesh Vaishanav\n",
      "5 ) CANT: Piyush Bagani\n",
      "6 ) CANT: Firdosh Ansari\n",
      "7 ) SENT: Mehar Preet Singh\n",
      "8 ) SENT: Tarun Mittal\n",
      "9 ) SENT: Subhadeep Banerjee\n",
      "10 ) CANT: Shivanand N Uppar\n",
      "\n",
      "INFO: Checking on page 3\n",
      "INFO: 10 connections found on page 3\n",
      "1 ) SENT: Vicky Gupta\n",
      "2 ) SENT: Raj Gupta\n",
      "3 ) SENT: Akanksha Bhatt\n",
      "4 ) SENT: Atul G.\n",
      "5 ) SENT: Status is reachable\n",
      "6 ) SENT: Jayveersinh Solanki\n",
      "7 ) CANT: Jatin Lodhi\n",
      "8 ) CANT: Ashish P.\n"
     ]
    },
    {
     "ename": "KeyboardInterrupt",
     "evalue": "",
     "output_type": "error",
     "traceback": [
      "\u001b[1;31m---------------------------------------------------------------------------\u001b[0m",
      "\u001b[1;31mKeyboardInterrupt\u001b[0m                         Traceback (most recent call last)",
      "\u001b[1;32m~\\AppData\\Local\\Temp/ipykernel_19732/3909929061.py\u001b[0m in \u001b[0;36m<module>\u001b[1;34m\u001b[0m\n\u001b[0;32m      1\u001b[0m \u001b[1;31m# Search\u001b[0m\u001b[1;33m\u001b[0m\u001b[1;33m\u001b[0m\u001b[1;33m\u001b[0m\u001b[0m\n\u001b[1;32m----> 2\u001b[1;33m \u001b[0msearch_and_send_request\u001b[0m\u001b[1;33m(\u001b[0m\u001b[0mkeywords\u001b[0m\u001b[1;33m=\u001b[0m\u001b[0mkeywords\u001b[0m\u001b[1;33m,\u001b[0m \u001b[0mtill_page\u001b[0m\u001b[1;33m=\u001b[0m\u001b[0mtill_page\u001b[0m\u001b[1;33m,\u001b[0m \u001b[0mwriter\u001b[0m\u001b[1;33m=\u001b[0m\u001b[0mwriter\u001b[0m\u001b[1;33m)\u001b[0m\u001b[1;33m\u001b[0m\u001b[1;33m\u001b[0m\u001b[0m\n\u001b[0m\u001b[0;32m      3\u001b[0m \u001b[1;33m\u001b[0m\u001b[0m\n\u001b[0;32m      4\u001b[0m \u001b[1;31m# Close browser\u001b[0m\u001b[1;33m\u001b[0m\u001b[1;33m\u001b[0m\u001b[1;33m\u001b[0m\u001b[0m\n\u001b[0;32m      5\u001b[0m \u001b[0mdriver\u001b[0m\u001b[1;33m.\u001b[0m\u001b[0mquit\u001b[0m\u001b[1;33m(\u001b[0m\u001b[1;33m)\u001b[0m\u001b[1;33m\u001b[0m\u001b[1;33m\u001b[0m\u001b[0m\n",
      "\u001b[1;32m~\\AppData\\Local\\Temp/ipykernel_19732/2414638218.py\u001b[0m in \u001b[0;36msearch_and_send_request\u001b[1;34m(keywords, till_page, writer)\u001b[0m\n\u001b[0;32m     25\u001b[0m                     \u001b[0mtime\u001b[0m\u001b[1;33m.\u001b[0m\u001b[0msleep\u001b[0m\u001b[1;33m(\u001b[0m\u001b[1;36m5\u001b[0m\u001b[1;33m)\u001b[0m\u001b[1;33m\u001b[0m\u001b[1;33m\u001b[0m\u001b[0m\n\u001b[0;32m     26\u001b[0m                     \u001b[0mconnection\u001b[0m\u001b[1;33m.\u001b[0m\u001b[0mclick\u001b[0m\u001b[1;33m(\u001b[0m\u001b[1;33m)\u001b[0m\u001b[1;33m\u001b[0m\u001b[1;33m\u001b[0m\u001b[0m\n\u001b[1;32m---> 27\u001b[1;33m                     \u001b[0mtime\u001b[0m\u001b[1;33m.\u001b[0m\u001b[0msleep\u001b[0m\u001b[1;33m(\u001b[0m\u001b[1;36m5\u001b[0m\u001b[1;33m)\u001b[0m\u001b[1;33m\u001b[0m\u001b[1;33m\u001b[0m\u001b[0m\n\u001b[0m\u001b[0;32m     28\u001b[0m                     \u001b[1;32mif\u001b[0m \u001b[0mdriver\u001b[0m\u001b[1;33m.\u001b[0m\u001b[0mfind_elements_by_class_name\u001b[0m\u001b[1;33m(\u001b[0m\u001b[1;34m'artdeco-button--primary'\u001b[0m\u001b[1;33m)\u001b[0m\u001b[1;33m[\u001b[0m\u001b[1;36m0\u001b[0m\u001b[1;33m]\u001b[0m\u001b[1;33m.\u001b[0m\u001b[0mis_enabled\u001b[0m\u001b[1;33m(\u001b[0m\u001b[1;33m)\u001b[0m\u001b[1;33m:\u001b[0m\u001b[1;33m\u001b[0m\u001b[1;33m\u001b[0m\u001b[0m\n\u001b[0;32m     29\u001b[0m                         \u001b[0mdriver\u001b[0m\u001b[1;33m.\u001b[0m\u001b[0mfind_elements_by_class_name\u001b[0m\u001b[1;33m(\u001b[0m\u001b[1;34m'artdeco-button--primary'\u001b[0m\u001b[1;33m)\u001b[0m\u001b[1;33m[\u001b[0m\u001b[1;36m0\u001b[0m\u001b[1;33m]\u001b[0m\u001b[1;33m.\u001b[0m\u001b[0mclick\u001b[0m\u001b[1;33m(\u001b[0m\u001b[1;33m)\u001b[0m\u001b[1;33m\u001b[0m\u001b[1;33m\u001b[0m\u001b[0m\n",
      "\u001b[1;31mKeyboardInterrupt\u001b[0m: "
     ]
    }
   ],
   "source": [
    "# Search\n",
    "search_and_send_request(keywords=keywords, till_page=till_page, writer=writer)\n",
    "\n",
    "# Close browser\n",
    "driver.quit()"
   ]
  },
  {
   "cell_type": "code",
   "execution_count": null,
   "id": "c31428cd-946a-4684-b96b-6512aaa3600c",
   "metadata": {},
   "outputs": [],
   "source": []
  },
  {
   "cell_type": "code",
   "execution_count": null,
   "id": "4f5ac0bf-5554-44c2-b880-275d01561479",
   "metadata": {},
   "outputs": [],
   "source": []
  },
  {
   "cell_type": "code",
   "execution_count": null,
   "id": "fac6e382-b3d5-4192-8615-b85679659419",
   "metadata": {},
   "outputs": [],
   "source": []
  },
  {
   "cell_type": "code",
   "execution_count": null,
   "id": "35d0eecb-1f75-474c-99fc-2634badf74d6",
   "metadata": {},
   "outputs": [],
   "source": []
  },
  {
   "cell_type": "code",
   "execution_count": null,
   "id": "3b22c059-7c67-486a-b299-eaf0d2955358",
   "metadata": {},
   "outputs": [],
   "source": []
  },
  {
   "cell_type": "code",
   "execution_count": null,
   "id": "27308ba9-27b5-4333-bd15-97398705437e",
   "metadata": {},
   "outputs": [],
   "source": []
  },
  {
   "cell_type": "code",
   "execution_count": null,
   "id": "0653a3a0-2c6a-4127-8db7-362a0a7e94ff",
   "metadata": {},
   "outputs": [],
   "source": []
  }
 ],
 "metadata": {
  "kernelspec": {
   "display_name": "Python 3",
   "language": "python",
   "name": "python3"
  },
  "language_info": {
   "codemirror_mode": {
    "name": "ipython",
    "version": 3
   },
   "file_extension": ".py",
   "mimetype": "text/x-python",
   "name": "python",
   "nbconvert_exporter": "python",
   "pygments_lexer": "ipython3",
   "version": "3.9.0"
  }
 },
 "nbformat": 4,
 "nbformat_minor": 5
}
